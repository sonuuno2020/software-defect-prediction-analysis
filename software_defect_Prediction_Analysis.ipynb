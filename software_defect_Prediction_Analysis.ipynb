{
  "nbformat": 4,
  "nbformat_minor": 0,
  "metadata": {
    "colab": {
      "name": "software defect Prediction Analysis.ipynb",
      "provenance": [],
      "collapsed_sections": []
    },
    "kernelspec": {
      "name": "python3",
      "display_name": "Python 3"
    },
    "language_info": {
      "name": "python"
    }
  },
  "cells": [
    {
      "cell_type": "markdown",
      "metadata": {
        "id": "Trs1Gcj7GBQQ"
      },
      "source": [
        "# **Software Defect Predection**"
      ]
    },
    {
      "cell_type": "markdown",
      "metadata": {
        "id": "Ts0hAHIY0PgG"
      },
      "source": [
        "* ***importing required libraries***"
      ]
    },
    {
      "cell_type": "code",
      "metadata": {
        "id": "Xkw_hFoEEA4n"
      },
      "source": [
        "import numpy as np\n",
        "import pandas as pd\n",
        "import matplotlib.pyplot as plt\n"
      ],
      "execution_count": null,
      "outputs": []
    },
    {
      "cell_type": "code",
      "metadata": {
        "id": "4biLUtrXx3TB"
      },
      "source": [
        "\n",
        "from sklearn.ensemble import RandomForestClassifier\n",
        "from sklearn.svm import LinearSVC\n",
        "from sklearn.naive_bayes import GaussianNB\n",
        "from sklearn.tree import DecisionTreeClassifier\n",
        "from sklearn.calibration import CalibratedClassifierCV\n",
        "from sklearn.model_selection import train_test_split\n",
        "from sklearn.model_selection import cross_val_score\n",
        "from sklearn.metrics import roc_curve\n",
        "from sklearn.metrics import roc_auc_score\n",
        "from sklearn.metrics import accuracy_score,precision_score,recall_score,f1_score\n",
        "from sklearn.metrics import confusion_matrix\n",
        "from sklearn.metrics import classification_report\n",
        "from scipy.stats import friedmanchisquare\n",
        "from scipy import stats\n",
        "import seaborn as sns"
      ],
      "execution_count": null,
      "outputs": []
    },
    {
      "cell_type": "markdown",
      "metadata": {
        "id": "K7oeOYxdyDsk"
      },
      "source": [
        "## **Utility functions**"
      ]
    },
    {
      "cell_type": "code",
      "metadata": {
        "id": "P8EJXwxCxp9W"
      },
      "source": [
        "\n",
        "import warnings\n",
        "warnings.filterwarnings('ignore')\n",
        "\n",
        "\n",
        "\n",
        "def plot_roc_curve(fpr,tpr):\n",
        "  \"\"\"\n",
        "  plot roc curve using fpr and tpr\n",
        "\n",
        "  \"\"\"\n",
        "  plt.plot(fpr,tpr,color=\"r\",label=\"ROC curve\")\n",
        "  plt.plot([0,1],[0,1],color=\"b\",label=\"Guessing Line\")\n",
        "  plt.xlabel(\"False Positve Rate\")\n",
        "  plt.ylabel(\"True Postive Rate\")\n",
        "  plt.legend()\n",
        "  plt.show()\n",
        "\n",
        " \n",
        "def RocCurve(x_test,y_test,model):\n",
        "   \"\"\" make roc curve \"\"\"\n",
        "   y_probs=model.predict_proba(x_test)\n",
        "    \n",
        "   y_probs_positve=y_probs[:,1]\n",
        "\n",
        "   fpr,tpr,threshold=roc_curve(y_test,y_probs_positve)\n",
        "\n",
        "   \n",
        "\n",
        "   return [fpr,tpr]\n",
        "   \n",
        "\n",
        "\n",
        "\n",
        "def ConfusionMatrix(y_test,y_preds):\n",
        "   \"\"\" make confusion matrix \"\"\"\n",
        "\n",
        "   confusin_matrix=confusion_matrix(y_test,y_preds)\n",
        "\n",
        "   print(pd.crosstab(y_test,y_preds,rownames=[\"Actual\"],colnames=[\"Predicted\"]))\n",
        "   print(\"\\n\")\n",
        "\n",
        "def classificationReport(y_test,y_preds):\n",
        "   \"\"\" make classification report \"\"\"\n",
        "\n",
        "   print(classification_report(y_test,y_preds))\n",
        "   print(\"\\n\")\n",
        "\n",
        "\n",
        "\n",
        "def calPerformance(y_test,y_preds,model):\n",
        "  d=dict()\n",
        "  \n",
        "\n",
        "  y_probs=model.predict_proba(x_test)  \n",
        "  y_probs_positve=y_probs[:,1]\n",
        "\n",
        "  d[\"accuracy\"]=accuracy_score(y_test,y_preds)\n",
        "  # d[\"precision\"]=precision_score(y_preds,y_test)\n",
        "  # d[\"recall\"]=recall_score(y_test,y_preds)\n",
        "  # d[\"f1\"]=f1_score(y_test,y_preds)\n",
        "  d[\"cross_val_score\"]=round(np.mean(cross_val_score(model,x,y,cv=10)),3)\n",
        "  d[\"roc_score\"]=round(roc_auc_score(y_test,y_probs_positve),3)\n",
        "\n",
        "  return d   "
      ],
      "execution_count": null,
      "outputs": []
    },
    {
      "cell_type": "code",
      "metadata": {
        "id": "sjJYqEt5xkqE"
      },
      "source": [
        "accuracy_data=[]\n",
        "roc_data=[]"
      ],
      "execution_count": null,
      "outputs": []
    },
    {
      "cell_type": "markdown",
      "metadata": {
        "id": "u0goDYgNyIAl"
      },
      "source": [
        "## **CM1 Dataset**"
      ]
    },
    {
      "cell_type": "code",
      "metadata": {
        "colab": {
          "base_uri": "https://localhost:8080/",
          "height": 143
        },
        "id": "rP8xxlRpxwgn",
        "outputId": "ca8c7c1f-abe6-4985-eef4-a3e2096f4e9e"
      },
      "source": [
        "\n",
        "\n",
        "np.random.seed(42)\n",
        "\n",
        "df=pd.read_csv(\"/content/drive/MyDrive/Colab Notebooks/csv files/filtered_cm1.csv\")\n",
        "\n",
        "# removing outliers\n",
        "z_scores = stats.zscore(df)\n",
        "\n",
        "abs_z_scores = np.abs(z_scores)\n",
        "filtered_entries = (abs_z_scores < 3).all(axis=1)\n",
        "df = df[filtered_entries]\n",
        "\n",
        "\n",
        "# feature selection based on correaltion\n",
        "corr = df.corr()\n",
        "# sns.heatmap(corr)\n",
        "\n",
        "columns = np.full((corr.shape[0],), True, dtype=bool)\n",
        "for i in range(corr.shape[0]):\n",
        "    for j in range(i+1, corr.shape[0]):\n",
        "        if corr.iloc[i,j] >= 0.9:\n",
        "            if columns[j]:\n",
        "                columns[j] = False\n",
        "selected_columns = df.columns[columns]\n",
        "software_data = df[selected_columns]\n",
        "\n",
        "\n",
        "# split dataset\n",
        "x=software_data.drop(\"target\",axis=1)\n",
        "y=software_data[\"target\"]\n",
        "x_train,x_test,y_train,y_test=train_test_split(x,y,test_size=0.2)\n",
        "\n",
        "# model used\n",
        "clf=RandomForestClassifier(max_depth=10,max_features=\"auto\",min_samples_leaf=6,min_samples_split=5,n_estimators=500)\n",
        "svc=CalibratedClassifierCV(LinearSVC())\n",
        "nb=GaussianNB(priors=None, var_smoothing=1.0)\n",
        "dt=DecisionTreeClassifier(max_depth=5,max_features='auto',min_samples_leaf=10,min_samples_split=15)\n",
        "\n",
        "\n",
        "# fit data to model\n",
        "clf.fit(x_train,y_train)\n",
        "svc.fit(x_train,y_train)\n",
        "nb.fit(x_train,y_train)\n",
        "dt.fit(x_train,y_train)\n",
        "\n",
        "\n",
        "\n",
        "\n",
        "# prediction for model\n",
        "y_preds_svc=svc.predict(x_test)\n",
        "y_preds_nb=nb.predict(x_test)\n",
        "y_preds_clf=clf.predict(x_test)\n",
        "y_preds_dt=c=dt.predict(x_test)\n",
        "\n",
        "results=[]\n",
        "\n",
        "# performance and validation\n",
        "\n",
        "results.append(calPerformance(y_test,y_preds_svc,svc))\n",
        "results.append(calPerformance(y_test,y_preds_nb,nb))\n",
        "results.append(calPerformance(y_test,y_preds_dt,dt))\n",
        "results.append(calPerformance(y_test,y_preds_clf,clf))\n",
        "\n",
        "cm_svc_rate=RocCurve(x_test,y_test,svc)\n",
        "cm_nb_rate=RocCurve(x_test,y_test,nb)\n",
        "cm_dt_rate=RocCurve(x_test,y_test,dt)\n",
        "cm_clf_rate=RocCurve(x_test,y_test,clf)\n",
        "\n",
        "\n",
        "cm_df=pd.DataFrame(results,index=[\"LinearSVC\",\"Naive Bayes\",\"Decision Tree\",\"RandomForestClassifier\"])\n",
        "cm_df=cm_df.T\n",
        "cm_df\n",
        "\n",
        "\n"
      ],
      "execution_count": null,
      "outputs": [
        {
          "output_type": "execute_result",
          "data": {
            "text/html": [
              "<div>\n",
              "<style scoped>\n",
              "    .dataframe tbody tr th:only-of-type {\n",
              "        vertical-align: middle;\n",
              "    }\n",
              "\n",
              "    .dataframe tbody tr th {\n",
              "        vertical-align: top;\n",
              "    }\n",
              "\n",
              "    .dataframe thead th {\n",
              "        text-align: right;\n",
              "    }\n",
              "</style>\n",
              "<table border=\"1\" class=\"dataframe\">\n",
              "  <thead>\n",
              "    <tr style=\"text-align: right;\">\n",
              "      <th></th>\n",
              "      <th>LinearSVC</th>\n",
              "      <th>Naive Bayes</th>\n",
              "      <th>Decision Tree</th>\n",
              "      <th>RandomForestClassifier</th>\n",
              "    </tr>\n",
              "  </thead>\n",
              "  <tbody>\n",
              "    <tr>\n",
              "      <th>accuracy</th>\n",
              "      <td>0.807018</td>\n",
              "      <td>0.807018</td>\n",
              "      <td>0.807018</td>\n",
              "      <td>0.807018</td>\n",
              "    </tr>\n",
              "    <tr>\n",
              "      <th>cross_val_score</th>\n",
              "      <td>0.881000</td>\n",
              "      <td>0.884000</td>\n",
              "      <td>0.877000</td>\n",
              "      <td>0.884000</td>\n",
              "    </tr>\n",
              "    <tr>\n",
              "      <th>roc_score</th>\n",
              "      <td>0.439000</td>\n",
              "      <td>0.854000</td>\n",
              "      <td>0.440000</td>\n",
              "      <td>0.761000</td>\n",
              "    </tr>\n",
              "  </tbody>\n",
              "</table>\n",
              "</div>"
            ],
            "text/plain": [
              "                 LinearSVC  Naive Bayes  Decision Tree  RandomForestClassifier\n",
              "accuracy          0.807018     0.807018       0.807018                0.807018\n",
              "cross_val_score   0.881000     0.884000       0.877000                0.884000\n",
              "roc_score         0.439000     0.854000       0.440000                0.761000"
            ]
          },
          "metadata": {},
          "execution_count": 5
        }
      ]
    },
    {
      "cell_type": "code",
      "metadata": {
        "id": "WjmddkTGyTF5"
      },
      "source": [
        "CM_accuracy=np.array(cm_df.iloc[1]).tolist()\n",
        "CM_roc=np.array(cm_df.iloc[2]).tolist()\n",
        "\n",
        "accuracy_data.append(CM_accuracy)\n",
        "roc_data.append(CM_roc)\n"
      ],
      "execution_count": null,
      "outputs": []
    },
    {
      "cell_type": "markdown",
      "metadata": {
        "id": "XTdcLRMP3_Kz"
      },
      "source": [
        "## **JM1 Dataset**"
      ]
    },
    {
      "cell_type": "code",
      "metadata": {
        "colab": {
          "base_uri": "https://localhost:8080/",
          "height": 143
        },
        "id": "yo-DwPwWypxR",
        "outputId": "0bdccc62-38a7-45bb-d308-0b70e1ce3f30"
      },
      "source": [
        "\n",
        "\n",
        "np.random.seed(42)\n",
        "\n",
        "software_data=pd.read_csv(\"/content/drive/MyDrive/Colab Notebooks/csv files/filtered_jm1.csv\")\n",
        "\n",
        "# split dataset\n",
        "x=software_data.drop(\"target\",axis=1)\n",
        "y=software_data[\"target\"]\n",
        "x_train,x_test,y_train,y_test=train_test_split(x,y,test_size=0.2)\n",
        "\n",
        "# model used\n",
        "clf=RandomForestClassifier()\n",
        "svc=CalibratedClassifierCV(LinearSVC())\n",
        "nb=GaussianNB()\n",
        "dt=DecisionTreeClassifier()\n",
        "\n",
        "\n",
        "# fit data to model\n",
        "clf.fit(x_train,y_train)\n",
        "svc.fit(x_train,y_train)\n",
        "nb.fit(x_train,y_train)\n",
        "dt.fit(x_train,y_train)\n",
        "\n",
        "\n",
        "\n",
        "\n",
        "# prediction for model\n",
        "y_preds_svc=svc.predict(x_test)\n",
        "y_preds_nb=nb.predict(x_test)\n",
        "y_preds_clf=clf.predict(x_test)\n",
        "y_preds_dt=c=dt.predict(x_test)\n",
        "\n",
        "results=[]\n",
        "\n",
        "# performance and validation\n",
        "\n",
        "\n",
        "results.append(calPerformance(y_test,y_preds_svc,svc))\n",
        "results.append(calPerformance(y_test,y_preds_nb,nb))\n",
        "results.append(calPerformance(y_test,y_preds_dt,dt))\n",
        "results.append(calPerformance(y_test,y_preds_clf,clf))\n",
        "\n",
        "\n",
        "jm_svc_rate=RocCurve(x_test,y_test,svc)\n",
        "jm_nb_rate=RocCurve(x_test,y_test,nb)\n",
        "jm_dt_rate=RocCurve(x_test,y_test,dt)\n",
        "jm_clf_rate=RocCurve(x_test,y_test,clf)\n",
        "\n",
        "jm_df=pd.DataFrame(results,index=[\"LinearSVC\",\"Naive Bayes\",\"Decision Tree\",\"RandomForestClassifier\"])\n",
        "jm_df=jm_df.T\n",
        "jm_df\n",
        "\n",
        "\n"
      ],
      "execution_count": null,
      "outputs": [
        {
          "output_type": "execute_result",
          "data": {
            "text/html": [
              "<div>\n",
              "<style scoped>\n",
              "    .dataframe tbody tr th:only-of-type {\n",
              "        vertical-align: middle;\n",
              "    }\n",
              "\n",
              "    .dataframe tbody tr th {\n",
              "        vertical-align: top;\n",
              "    }\n",
              "\n",
              "    .dataframe thead th {\n",
              "        text-align: right;\n",
              "    }\n",
              "</style>\n",
              "<table border=\"1\" class=\"dataframe\">\n",
              "  <thead>\n",
              "    <tr style=\"text-align: right;\">\n",
              "      <th></th>\n",
              "      <th>LinearSVC</th>\n",
              "      <th>Naive Bayes</th>\n",
              "      <th>Decision Tree</th>\n",
              "      <th>RandomForestClassifier</th>\n",
              "    </tr>\n",
              "  </thead>\n",
              "  <tbody>\n",
              "    <tr>\n",
              "      <th>accuracy</th>\n",
              "      <td>0.808824</td>\n",
              "      <td>0.805147</td>\n",
              "      <td>0.742647</td>\n",
              "      <td>0.8125</td>\n",
              "    </tr>\n",
              "    <tr>\n",
              "      <th>cross_val_score</th>\n",
              "      <td>0.809000</td>\n",
              "      <td>0.804000</td>\n",
              "      <td>0.717000</td>\n",
              "      <td>0.7940</td>\n",
              "    </tr>\n",
              "    <tr>\n",
              "      <th>roc_score</th>\n",
              "      <td>0.630000</td>\n",
              "      <td>0.631000</td>\n",
              "      <td>0.574000</td>\n",
              "      <td>0.7260</td>\n",
              "    </tr>\n",
              "  </tbody>\n",
              "</table>\n",
              "</div>"
            ],
            "text/plain": [
              "                 LinearSVC  Naive Bayes  Decision Tree  RandomForestClassifier\n",
              "accuracy          0.808824     0.805147       0.742647                  0.8125\n",
              "cross_val_score   0.809000     0.804000       0.717000                  0.7940\n",
              "roc_score         0.630000     0.631000       0.574000                  0.7260"
            ]
          },
          "metadata": {},
          "execution_count": 8
        }
      ]
    },
    {
      "cell_type": "code",
      "metadata": {
        "id": "2k-UzO_9z9oq"
      },
      "source": [
        "JM_accuracy=np.array(jm_df.iloc[1]).tolist()\n",
        "JM_roc=np.array(jm_df.iloc[2]).tolist()\n",
        "\n",
        "accuracy_data.append(JM_accuracy)\n",
        "roc_data.append(JM_roc)\n"
      ],
      "execution_count": null,
      "outputs": []
    },
    {
      "cell_type": "markdown",
      "metadata": {
        "id": "IJzM4rwY4GBq"
      },
      "source": [
        "## **PC5 Dataset**"
      ]
    },
    {
      "cell_type": "code",
      "metadata": {
        "colab": {
          "base_uri": "https://localhost:8080/",
          "height": 143
        },
        "id": "2yx5iAtqB1HT",
        "outputId": "f79eb0fb-2949-42be-9b01-fdc1d7f656c2"
      },
      "source": [
        "\n",
        "\n",
        "np.random.seed(42)\n",
        "\n",
        "df=pd.read_csv(\"/content/drive/MyDrive/Colab Notebooks/csv files/filtered_pc5.csv\")\n",
        "\n",
        "# removing outliers\n",
        "z_scores = stats.zscore(df)\n",
        "\n",
        "abs_z_scores = np.abs(z_scores)\n",
        "filtered_entries = (abs_z_scores < 3).all(axis=1)\n",
        "df = df[filtered_entries]\n",
        "\n",
        "\n",
        "# feature selection based on correaltion\n",
        "corr = df.corr()\n",
        "# sns.heatmap(corr)\n",
        "\n",
        "columns = np.full((corr.shape[0],), True, dtype=bool)\n",
        "for i in range(corr.shape[0]):\n",
        "    for j in range(i+1, corr.shape[0]):\n",
        "        if corr.iloc[i,j] >= 0.9:\n",
        "            if columns[j]:\n",
        "                columns[j] = False\n",
        "selected_columns = df.columns[columns]\n",
        "software_data = df[selected_columns]\n",
        "\n",
        "\n",
        "# split dataset\n",
        "x=software_data.drop(\"target\",axis=1)\n",
        "y=software_data[\"target\"]\n",
        "x_train,x_test,y_train,y_test=train_test_split(x,y,test_size=0.2)\n",
        "\n",
        "# model used\n",
        "clf=RandomForestClassifier(max_depth=20,max_features=\"sqrt\",min_samples_leaf=6,min_samples_split=5,n_estimators=1000)\n",
        "svc=CalibratedClassifierCV(LinearSVC())\n",
        "nb=GaussianNB(priors=None, var_smoothing=1.0)\n",
        "dt=DecisionTreeClassifier(max_depth=20,max_features='sqrt',min_samples_leaf=6,min_samples_split=20)\n",
        "\n",
        "\n",
        "# fit data to model\n",
        "clf.fit(x_train,y_train)\n",
        "svc.fit(x_train,y_train)\n",
        "nb.fit(x_train,y_train)\n",
        "dt.fit(x_train,y_train)\n",
        "\n",
        "\n",
        "\n",
        "\n",
        "# prediction for model\n",
        "y_preds_svc=svc.predict(x_test)\n",
        "y_preds_nb=nb.predict(x_test)\n",
        "y_preds_clf=clf.predict(x_test)\n",
        "y_preds_dt=c=dt.predict(x_test)\n",
        "\n",
        "results=[]\n",
        "\n",
        "# performance and validation\n",
        "\n",
        "\n",
        "results.append(calPerformance(y_test,y_preds_svc,svc))\n",
        "results.append(calPerformance(y_test,y_preds_nb,nb))\n",
        "results.append(calPerformance(y_test,y_preds_dt,dt))\n",
        "results.append(calPerformance(y_test,y_preds_clf,clf))\n",
        "\n",
        "\n",
        "pc_svc_rate=RocCurve(x_test,y_test,svc)\n",
        "pc_nb_rate=RocCurve(x_test,y_test,nb)\n",
        "pc_dt_rate=RocCurve(x_test,y_test,dt)\n",
        "pc_clf_rate=RocCurve(x_test,y_test,clf)\n",
        "\n",
        "pc_df=pd.DataFrame(results,index=[\"LinearSVC\",\"Naive Bayes\",\"Decision Tree\",\"RandomForestClassifier\"])\n",
        "pc_df=pc_df.T\n",
        "pc_df\n",
        "\n",
        "\n"
      ],
      "execution_count": null,
      "outputs": [
        {
          "output_type": "execute_result",
          "data": {
            "text/html": [
              "<div>\n",
              "<style scoped>\n",
              "    .dataframe tbody tr th:only-of-type {\n",
              "        vertical-align: middle;\n",
              "    }\n",
              "\n",
              "    .dataframe tbody tr th {\n",
              "        vertical-align: top;\n",
              "    }\n",
              "\n",
              "    .dataframe thead th {\n",
              "        text-align: right;\n",
              "    }\n",
              "</style>\n",
              "<table border=\"1\" class=\"dataframe\">\n",
              "  <thead>\n",
              "    <tr style=\"text-align: right;\">\n",
              "      <th></th>\n",
              "      <th>LinearSVC</th>\n",
              "      <th>Naive Bayes</th>\n",
              "      <th>Decision Tree</th>\n",
              "      <th>RandomForestClassifier</th>\n",
              "    </tr>\n",
              "  </thead>\n",
              "  <tbody>\n",
              "    <tr>\n",
              "      <th>accuracy</th>\n",
              "      <td>0.777311</td>\n",
              "      <td>0.785714</td>\n",
              "      <td>0.756303</td>\n",
              "      <td>0.819328</td>\n",
              "    </tr>\n",
              "    <tr>\n",
              "      <th>cross_val_score</th>\n",
              "      <td>0.751000</td>\n",
              "      <td>0.753000</td>\n",
              "      <td>0.742000</td>\n",
              "      <td>0.787000</td>\n",
              "    </tr>\n",
              "    <tr>\n",
              "      <th>roc_score</th>\n",
              "      <td>0.619000</td>\n",
              "      <td>0.674000</td>\n",
              "      <td>0.679000</td>\n",
              "      <td>0.812000</td>\n",
              "    </tr>\n",
              "  </tbody>\n",
              "</table>\n",
              "</div>"
            ],
            "text/plain": [
              "                 LinearSVC  Naive Bayes  Decision Tree  RandomForestClassifier\n",
              "accuracy          0.777311     0.785714       0.756303                0.819328\n",
              "cross_val_score   0.751000     0.753000       0.742000                0.787000\n",
              "roc_score         0.619000     0.674000       0.679000                0.812000"
            ]
          },
          "metadata": {},
          "execution_count": 10
        }
      ]
    },
    {
      "cell_type": "code",
      "metadata": {
        "id": "VBgd95xO4XtE"
      },
      "source": [
        "PC5_accuracy=np.array(pc_df.iloc[1]).tolist()\n",
        "PC5_roc=np.array(pc_df.iloc[2]).tolist()\n",
        "\n",
        "accuracy_data.append(PC5_accuracy)\n",
        "roc_data.append(PC5_roc)\n"
      ],
      "execution_count": null,
      "outputs": []
    },
    {
      "cell_type": "markdown",
      "metadata": {
        "id": "h3y3ZIfPllqV"
      },
      "source": [
        "## **statistical test**"
      ]
    },
    {
      "cell_type": "code",
      "metadata": {
        "id": "Dl5M4w-54Xoy",
        "colab": {
          "base_uri": "https://localhost:8080/"
        },
        "outputId": "7a3bf3e3-c98c-48f2-c151-8e50efbead41"
      },
      "source": [
        "accuracy_data"
      ],
      "execution_count": null,
      "outputs": [
        {
          "output_type": "execute_result",
          "data": {
            "text/plain": [
              "[[0.881, 0.884, 0.877, 0.884],\n",
              " [0.809, 0.804, 0.717, 0.794],\n",
              " [0.751, 0.753, 0.742, 0.787]]"
            ]
          },
          "metadata": {},
          "execution_count": 13
        }
      ]
    },
    {
      "cell_type": "code",
      "metadata": {
        "id": "lkyNZdOh4XjR",
        "colab": {
          "base_uri": "https://localhost:8080/",
          "height": 161
        },
        "outputId": "d9c17b13-4004-45e1-a4a7-80fc0d85d67a"
      },
      "source": [
        "acc_table=pd.DataFrame(accuracy_data,index=[\"CM1\",\"JM1\",\"PC5\"],columns=[\"LinearSVC\",\"Naive Bayes\",\"Decision Tree\",\"RandomForestClassifier\"])\n",
        "print(\"Accuracy table\")\n",
        "\n",
        "acc_table"
      ],
      "execution_count": null,
      "outputs": [
        {
          "output_type": "stream",
          "name": "stdout",
          "text": [
            "Accuracy table\n"
          ]
        },
        {
          "output_type": "execute_result",
          "data": {
            "text/html": [
              "<div>\n",
              "<style scoped>\n",
              "    .dataframe tbody tr th:only-of-type {\n",
              "        vertical-align: middle;\n",
              "    }\n",
              "\n",
              "    .dataframe tbody tr th {\n",
              "        vertical-align: top;\n",
              "    }\n",
              "\n",
              "    .dataframe thead th {\n",
              "        text-align: right;\n",
              "    }\n",
              "</style>\n",
              "<table border=\"1\" class=\"dataframe\">\n",
              "  <thead>\n",
              "    <tr style=\"text-align: right;\">\n",
              "      <th></th>\n",
              "      <th>LinearSVC</th>\n",
              "      <th>Naive Bayes</th>\n",
              "      <th>Decision Tree</th>\n",
              "      <th>RandomForestClassifier</th>\n",
              "    </tr>\n",
              "  </thead>\n",
              "  <tbody>\n",
              "    <tr>\n",
              "      <th>CM1</th>\n",
              "      <td>0.881</td>\n",
              "      <td>0.884</td>\n",
              "      <td>0.877</td>\n",
              "      <td>0.884</td>\n",
              "    </tr>\n",
              "    <tr>\n",
              "      <th>JM1</th>\n",
              "      <td>0.809</td>\n",
              "      <td>0.804</td>\n",
              "      <td>0.717</td>\n",
              "      <td>0.794</td>\n",
              "    </tr>\n",
              "    <tr>\n",
              "      <th>PC5</th>\n",
              "      <td>0.751</td>\n",
              "      <td>0.753</td>\n",
              "      <td>0.742</td>\n",
              "      <td>0.787</td>\n",
              "    </tr>\n",
              "  </tbody>\n",
              "</table>\n",
              "</div>"
            ],
            "text/plain": [
              "     LinearSVC  Naive Bayes  Decision Tree  RandomForestClassifier\n",
              "CM1      0.881        0.884          0.877                   0.884\n",
              "JM1      0.809        0.804          0.717                   0.794\n",
              "PC5      0.751        0.753          0.742                   0.787"
            ]
          },
          "metadata": {},
          "execution_count": 14
        }
      ]
    },
    {
      "cell_type": "markdown",
      "metadata": {
        "id": "i_b66vHOJ92M"
      },
      "source": [
        "* Null Hypothesis : there is no differences between all models.\n",
        "* Alternative Hypothesis : there is significant difference between models."
      ]
    },
    {
      "cell_type": "code",
      "metadata": {
        "colab": {
          "base_uri": "https://localhost:8080/"
        },
        "id": "Ly854KlUHJgU",
        "outputId": "25389dd7-b15b-445d-92ff-c0db47bdf4ae"
      },
      "source": [
        "\n",
        "f_test=friedmanchisquare(acc_table[\"LinearSVC\"],acc_table[\"Naive Bayes\"],\n",
        "                         acc_table[\"Decision Tree\"],acc_table[\"RandomForestClassifier\"])\n",
        "print(f_test)"
      ],
      "execution_count": null,
      "outputs": [
        {
          "output_type": "stream",
          "name": "stdout",
          "text": [
            "FriedmanchisquareResult(statistic=5.896551724137934, pvalue=0.11675312352287351)\n"
          ]
        }
      ]
    },
    {
      "cell_type": "markdown",
      "metadata": {
        "id": "lFYQ6s9f1UEn"
      },
      "source": [
        "* *As the p-value is greater than threshold(alpha=0.05) it's significance is less than 95%*\n",
        "\n",
        "* *Now this test is followed by Post Test by Wilcoxon signed rank tests*"
      ]
    },
    {
      "cell_type": "code",
      "metadata": {
        "colab": {
          "base_uri": "https://localhost:8080/"
        },
        "id": "YgNHDsLOGXyf",
        "outputId": "935b4f18-3f21-4edf-d136-74825177b379"
      },
      "source": [
        "stats.wilcoxon(acc_table[\"LinearSVC\"],acc_table[\"Naive Bayes\"])"
      ],
      "execution_count": null,
      "outputs": [
        {
          "output_type": "execute_result",
          "data": {
            "text/plain": [
              "WilcoxonResult(statistic=3.0, pvalue=1.0)"
            ]
          },
          "metadata": {},
          "execution_count": 16
        }
      ]
    },
    {
      "cell_type": "code",
      "metadata": {
        "colab": {
          "base_uri": "https://localhost:8080/"
        },
        "id": "CxQD_EBbGbd9",
        "outputId": "a06725de-e754-474a-9da6-3798116bbbb7"
      },
      "source": [
        "stats.wilcoxon(acc_table[\"LinearSVC\"],acc_table[\"Decision Tree\"])"
      ],
      "execution_count": null,
      "outputs": [
        {
          "output_type": "execute_result",
          "data": {
            "text/plain": [
              "WilcoxonResult(statistic=0.0, pvalue=0.10880943004054568)"
            ]
          },
          "metadata": {},
          "execution_count": 17
        }
      ]
    },
    {
      "cell_type": "code",
      "metadata": {
        "colab": {
          "base_uri": "https://localhost:8080/"
        },
        "id": "id_xUL_GGbbG",
        "outputId": "61da1403-e389-4e45-b722-b6449e80ccf7"
      },
      "source": [
        "stats.wilcoxon(acc_table[\"LinearSVC\"],acc_table[\"RandomForestClassifier\"])"
      ],
      "execution_count": null,
      "outputs": [
        {
          "output_type": "execute_result",
          "data": {
            "text/plain": [
              "WilcoxonResult(statistic=2.0, pvalue=0.5929800980174267)"
            ]
          },
          "metadata": {},
          "execution_count": 18
        }
      ]
    },
    {
      "cell_type": "code",
      "metadata": {
        "colab": {
          "base_uri": "https://localhost:8080/"
        },
        "id": "feGzafuVOFfH",
        "outputId": "f330ea9a-d0e3-4fff-e229-71c91e80ec33"
      },
      "source": [
        "stats.wilcoxon(acc_table[\"Decision Tree\"],acc_table[\"Naive Bayes\"])"
      ],
      "execution_count": null,
      "outputs": [
        {
          "output_type": "execute_result",
          "data": {
            "text/plain": [
              "WilcoxonResult(statistic=0.0, pvalue=0.10880943004054568)"
            ]
          },
          "metadata": {},
          "execution_count": 19
        }
      ]
    },
    {
      "cell_type": "code",
      "metadata": {
        "colab": {
          "base_uri": "https://localhost:8080/"
        },
        "id": "jiYcqdxxOFcJ",
        "outputId": "15f65463-fe49-42b3-b8af-d93cc624cc2d"
      },
      "source": [
        "stats.wilcoxon(acc_table[\"Decision Tree\"],acc_table[\"RandomForestClassifier\"])"
      ],
      "execution_count": null,
      "outputs": [
        {
          "output_type": "execute_result",
          "data": {
            "text/plain": [
              "WilcoxonResult(statistic=0.0, pvalue=0.10880943004054568)"
            ]
          },
          "metadata": {},
          "execution_count": 20
        }
      ]
    },
    {
      "cell_type": "code",
      "metadata": {
        "colab": {
          "base_uri": "https://localhost:8080/"
        },
        "id": "cZzHXG2SOFYb",
        "outputId": "b52d6b01-5e7b-4498-b431-673416f7c55d"
      },
      "source": [
        "stats.wilcoxon(acc_table[\"RandomForestClassifier\"],acc_table[\"Naive Bayes\"])"
      ],
      "execution_count": null,
      "outputs": [
        {
          "output_type": "execute_result",
          "data": {
            "text/plain": [
              "WilcoxonResult(statistic=1.0, pvalue=0.6547208460185769)"
            ]
          },
          "metadata": {},
          "execution_count": 21
        }
      ]
    },
    {
      "cell_type": "markdown",
      "metadata": {
        "id": "To6-AhbdHO6O"
      },
      "source": [
        "## **plot**"
      ]
    },
    {
      "cell_type": "code",
      "metadata": {
        "colab": {
          "base_uri": "https://localhost:8080/",
          "height": 175
        },
        "id": "Wu0RfeLvUDQh",
        "outputId": "7f95f060-37d8-49c8-9949-4205daa2a1dd"
      },
      "source": [
        "acc_table"
      ],
      "execution_count": null,
      "outputs": [
        {
          "output_type": "execute_result",
          "data": {
            "text/html": [
              "<div>\n",
              "<style scoped>\n",
              "    .dataframe tbody tr th:only-of-type {\n",
              "        vertical-align: middle;\n",
              "    }\n",
              "\n",
              "    .dataframe tbody tr th {\n",
              "        vertical-align: top;\n",
              "    }\n",
              "\n",
              "    .dataframe thead th {\n",
              "        text-align: right;\n",
              "    }\n",
              "</style>\n",
              "<table border=\"1\" class=\"dataframe\">\n",
              "  <thead>\n",
              "    <tr style=\"text-align: right;\">\n",
              "      <th></th>\n",
              "      <th>CM1</th>\n",
              "      <th>JM1</th>\n",
              "      <th>PC5</th>\n",
              "    </tr>\n",
              "  </thead>\n",
              "  <tbody>\n",
              "    <tr>\n",
              "      <th>LinearSVC</th>\n",
              "      <td>0.881</td>\n",
              "      <td>0.809</td>\n",
              "      <td>0.751</td>\n",
              "    </tr>\n",
              "    <tr>\n",
              "      <th>Navie Bayes</th>\n",
              "      <td>0.884</td>\n",
              "      <td>0.804</td>\n",
              "      <td>0.753</td>\n",
              "    </tr>\n",
              "    <tr>\n",
              "      <th>Decision Tree</th>\n",
              "      <td>0.877</td>\n",
              "      <td>0.717</td>\n",
              "      <td>0.742</td>\n",
              "    </tr>\n",
              "    <tr>\n",
              "      <th>RandomForestClassifier</th>\n",
              "      <td>0.884</td>\n",
              "      <td>0.794</td>\n",
              "      <td>0.787</td>\n",
              "    </tr>\n",
              "  </tbody>\n",
              "</table>\n",
              "</div>"
            ],
            "text/plain": [
              "                          CM1    JM1    PC5\n",
              "LinearSVC               0.881  0.809  0.751\n",
              "Navie Bayes             0.884  0.804  0.753\n",
              "Decision Tree           0.877  0.717  0.742\n",
              "RandomForestClassifier  0.884  0.794  0.787"
            ]
          },
          "metadata": {},
          "execution_count": 90
        }
      ]
    },
    {
      "cell_type": "code",
      "metadata": {
        "id": "dLomZQO7nONu",
        "colab": {
          "base_uri": "https://localhost:8080/",
          "height": 349
        },
        "outputId": "bd378a17-d8c9-4c33-8850-dd0dc3187533"
      },
      "source": [
        "acc_table.T.plot.bar(figsize=(10,5))"
      ],
      "execution_count": null,
      "outputs": [
        {
          "output_type": "execute_result",
          "data": {
            "text/plain": [
              "<matplotlib.axes._subplots.AxesSubplot at 0x7f1b20a785d0>"
            ]
          },
          "metadata": {},
          "execution_count": 63
        },
        {
          "output_type": "display_data",
          "data": {
            "image/png": "[encoded data removed]",
            "text/plain": [
              "<Figure size 720x360 with 1 Axes>"
            ]
          },
          "metadata": {
            "needs_background": "light"
          }
        }
      ]
    },
    {
      "cell_type": "markdown",
      "metadata": {
        "id": "sY7AqrJH1Gr_"
      },
      "source": [
        "*LinearSVC model has highest accuracy followed by Random Forest Classifier*"
      ]
    },
    {
      "cell_type": "code",
      "metadata": {
        "id": "Zi2Z1PYmnOK2",
        "colab": {
          "base_uri": "https://localhost:8080/",
          "height": 445
        },
        "outputId": "c6a6e343-4c50-4e07-8e25-f2b0677a12b3"
      },
      "source": [
        "acc_table.plot.bar(figsize=(10,5))"
      ],
      "execution_count": null,
      "outputs": [
        {
          "output_type": "execute_result",
          "data": {
            "text/plain": [
              "<matplotlib.axes._subplots.AxesSubplot at 0x7f1b211c2ed0>"
            ]
          },
          "metadata": {},
          "execution_count": 64
        },
        {
          "output_type": "display_data",
          "data": {
            "image/png": "[encoded data removed]",
            "text/plain": [
              "<Figure size 720x360 with 1 Axes>"
            ]
          },
          "metadata": {
            "needs_background": "light"
          }
        }
      ]
    },
    {
      "cell_type": "markdown",
      "metadata": {
        "id": "4OxIePXz03kV"
      },
      "source": [
        "*CM1 has highest accuracy over all models*"
      ]
    },
    {
      "cell_type": "code",
      "metadata": {
        "colab": {
          "base_uri": "https://localhost:8080/"
        },
        "id": "D-g-eZMcGbVr",
        "outputId": "2d21be9d-67e9-4e09-d96a-ed773d2cb4f4"
      },
      "source": [
        "roc_data"
      ],
      "execution_count": null,
      "outputs": [
        {
          "output_type": "execute_result",
          "data": {
            "text/plain": [
              "[[0.439, 0.854, 0.44, 0.761],\n",
              " [0.63, 0.631, 0.574, 0.726],\n",
              " [0.619, 0.674, 0.679, 0.812]]"
            ]
          },
          "metadata": {},
          "execution_count": 22
        }
      ]
    },
    {
      "cell_type": "code",
      "metadata": {
        "colab": {
          "base_uri": "https://localhost:8080/",
          "height": 161
        },
        "id": "TSWTaD8A0bhb",
        "outputId": "ff0d45ec-97dc-4491-bd89-6dbe6aa31435"
      },
      "source": [
        "roc_table=pd.DataFrame(roc_data,index=[\"CM1\",\"JM1\",\"PC5\"],columns=[\"LinearSVC\",\"Naive Bayes\",\"Decision Tree\",\"RandomForestClassifier\"])\n",
        "print(\"ROC table\")\n",
        "roc_table"
      ],
      "execution_count": null,
      "outputs": [
        {
          "output_type": "stream",
          "name": "stdout",
          "text": [
            "ROC table\n"
          ]
        },
        {
          "output_type": "execute_result",
          "data": {
            "text/html": [
              "<div>\n",
              "<style scoped>\n",
              "    .dataframe tbody tr th:only-of-type {\n",
              "        vertical-align: middle;\n",
              "    }\n",
              "\n",
              "    .dataframe tbody tr th {\n",
              "        vertical-align: top;\n",
              "    }\n",
              "\n",
              "    .dataframe thead th {\n",
              "        text-align: right;\n",
              "    }\n",
              "</style>\n",
              "<table border=\"1\" class=\"dataframe\">\n",
              "  <thead>\n",
              "    <tr style=\"text-align: right;\">\n",
              "      <th></th>\n",
              "      <th>LinearSVC</th>\n",
              "      <th>Naive Bayes</th>\n",
              "      <th>Decision Tree</th>\n",
              "      <th>RandomForestClassifier</th>\n",
              "    </tr>\n",
              "  </thead>\n",
              "  <tbody>\n",
              "    <tr>\n",
              "      <th>CM1</th>\n",
              "      <td>0.439</td>\n",
              "      <td>0.854</td>\n",
              "      <td>0.440</td>\n",
              "      <td>0.761</td>\n",
              "    </tr>\n",
              "    <tr>\n",
              "      <th>JM1</th>\n",
              "      <td>0.630</td>\n",
              "      <td>0.631</td>\n",
              "      <td>0.574</td>\n",
              "      <td>0.726</td>\n",
              "    </tr>\n",
              "    <tr>\n",
              "      <th>PC5</th>\n",
              "      <td>0.619</td>\n",
              "      <td>0.674</td>\n",
              "      <td>0.679</td>\n",
              "      <td>0.812</td>\n",
              "    </tr>\n",
              "  </tbody>\n",
              "</table>\n",
              "</div>"
            ],
            "text/plain": [
              "     LinearSVC  Naive Bayes  Decision Tree  RandomForestClassifier\n",
              "CM1      0.439        0.854          0.440                   0.761\n",
              "JM1      0.630        0.631          0.574                   0.726\n",
              "PC5      0.619        0.674          0.679                   0.812"
            ]
          },
          "metadata": {},
          "execution_count": 25
        }
      ]
    },
    {
      "cell_type": "code",
      "metadata": {
        "id": "sPpA_XalnPBe",
        "colab": {
          "base_uri": "https://localhost:8080/",
          "height": 985
        },
        "outputId": "28a23f47-21f5-4394-9581-473e37ad82ea"
      },
      "source": [
        "fig,(ax1,ax2,ax3)=plt.subplots(nrows=3,ncols=1,figsize=(10,15))\n",
        "\n",
        "\n",
        "ax1.plot(cm_svc_rate[0],cm_svc_rate[1],color=\"r\",label=\"ROC curve svc\")\n",
        "ax1.plot(cm_nb_rate[0],cm_nb_rate[1],color=\"g\",label=\"ROC curve nb\")\n",
        "ax1.plot(cm_dt_rate[0],cm_dt_rate[1],color=\"y\",label=\"ROC curve dt\")\n",
        "ax1.plot(cm_clf_rate[0],cm_clf_rate[1],color=\"#fd6bbe\",label=\"ROC curve clf\")\n",
        "ax1.plot([0,1],[0,1],color=\"b\",label=\"Guessing Line\")\n",
        "\n",
        "\n",
        "\n",
        "ax2.plot(jm_svc_rate[0],jm_svc_rate[1],color=\"r\",label=\"ROC curve svc\")\n",
        "ax2.plot(jm_nb_rate[0],jm_nb_rate[1],color=\"g\",label=\"ROC curve nb\")\n",
        "ax2.plot(jm_dt_rate[0],jm_dt_rate[1],color=\"y\",label=\"ROC curve dt\")\n",
        "ax2.plot(jm_clf_rate[0],jm_clf_rate[1],color=\"#fd6bbe\",label=\"ROC curve clf\")\n",
        "ax2.plot([0,1],[0,1],color=\"b\",label=\"Guessing Line\")\n",
        "\n",
        "\n",
        "ax3.plot(pc_svc_rate[0],pc_svc_rate[1],color=\"r\",label=\"ROC curve svc\")\n",
        "ax3.plot(pc_nb_rate[0],pc_nb_rate[1],color=\"g\",label=\"ROC curve nb\")\n",
        "ax3.plot(pc_dt_rate[0],pc_dt_rate[1],color=\"y\",label=\"ROC curve dt\")\n",
        "ax3.plot(pc_clf_rate[0],pc_clf_rate[1],color=\"#fd6bbe\",label=\"ROC curve clf\")\n",
        "ax3.plot([0,1],[0,1],color=\"b\",label=\"Guessing Line\")\n",
        "\n",
        "plt.xlabel(\"False Positive Rates\")\n",
        "plt.ylabel(\"True Positive Rates\")\n",
        "\n",
        "\n",
        "fig.suptitle(\"ROC CURVES\")\n",
        "\n",
        "plt.legend()\n",
        "plt.show()\n"
      ],
      "execution_count": null,
      "outputs": [
        {
          "output_type": "display_data",
          "data": {
            "image/png": "[encoded data removed]",
            "text/plain": [
              "<Figure size 720x1080 with 3 Axes>"
            ]
          },
          "metadata": {
            "needs_background": "light"
          }
        }
      ]
    },
    {
      "cell_type": "code",
      "metadata": {
        "id": "2IYvZTFCnO5N"
      },
      "source": [
        ""
      ],
      "execution_count": null,
      "outputs": []
    },
    {
      "cell_type": "markdown",
      "metadata": {
        "id": "nJMxWgv8ZOKc"
      },
      "source": [
        "https://www.researchgate.net/publication/333513059_Performance_Analysis_of_Machine_Learning_Techniques_on_Software_Defect_Prediction_using_NASA_Datasets\n",
        "\n"
      ]
    }
  ]
}